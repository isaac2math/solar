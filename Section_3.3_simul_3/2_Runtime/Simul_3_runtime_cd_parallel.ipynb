{
 "cells": [
  {
   "cell_type": "markdown",
   "metadata": {},
   "source": [
    "<center><h1> Runtime of bolasso (solved by coordinate descent) under sklearn built-in parallel scheme </h1></center>"
   ]
  },
  {
   "cell_type": "markdown",
   "metadata": {},
   "source": [
    "  * <font size=\"4.5\"> In this file we set the DGP identical to the one in simulation 1. </font>"
   ]
  },
  {
   "cell_type": "markdown",
   "metadata": {},
   "source": [
    "## #1: import all modules\n",
    "\n",
    "* <font size=\"4\"> \"pickle\" is used to save all computation results into \".p\" files, which can be loaded later. </font>\n",
    "\n",
    "* <font size=\"4\"> For simplicity and elegancy, all relevant functions and classes are coded in \"simul_built_in_parallel.py\". </font>"
   ]
  },
  {
   "cell_type": "code",
   "execution_count": 1,
   "metadata": {},
   "outputs": [],
   "source": [
    "%reset -f\n",
    "\n",
    "from simul_built_in_parallel import simul_func\n",
    "\n",
    "import numpy             as np\n",
    "import matplotlib.pyplot as plt\n",
    "import pickle\n",
    "import os\n",
    "import errno"
   ]
  },
  {
   "cell_type": "code",
   "execution_count": 2,
   "metadata": {},
   "outputs": [],
   "source": [
    "n_info    = 5\n",
    "step_size = -0.01\n",
    "num_rep   = 200\n",
    "rnd_seed  = 0\n",
    "\n",
    "n_dim_0 = 400 ; sample_size_0 = 200\n",
    "n_dim_1 = 800 ; sample_size_1 = 400\n",
    "n_dim_2 = 1200; sample_size_2 = 600"
   ]
  },
  {
   "cell_type": "markdown",
   "metadata": {},
   "source": [
    "---\n",
    "\n",
    "# Result summary\n",
    "\n",
    "## On i9-9900K, my result is summarized in this table. The unit of this table is *seconds per iteration*."
   ]
  },
  {
   "cell_type": "markdown",
   "metadata": {},
   "source": [
    "|                     | SR | p/n = 100/100  |  p/n = 100/150  |  p/n = 100/200  |  p/n = 150/100  |  p/n = 200/150  |  p/n = 250/200  |  p/n = 400/200  |  p/n = 800/400  |  p/n = 1200/600  |\n",
    "| ------------------: | :----------------------------: | :----------: | :-----------: | :-----------: | :----------: | :-----------: | :-----------: | :-----------: | :-----------: | :------------: |\n",
    "| bsolar-3            | 3                              | 0\\.13        | 0\\.17         | 0\\.24         | 0\\.13        | 0\\.18         | 0\\.25         | 0\\.40         | 1\\.07         | 2\\.05          |\n",
    "| bolasso <br> (joblib parallel)             | 256                            | 1\\.84        | 3\\.41         | 7\\.68         | 2\\.01        | 3\\.93         | 6\\.46         | 15\\.48        | 231\\.25       | 820\\.84        |\n",
    "| bolasso <br> (built-in parallel)                   | 256                                        | 5\\.30              | 8\\.71               | 19\\.98              | 7\\.46              | 14\\.88              | 20\\.62              | 29\\.36              | 229\\.26             | 779\\.01              |\n",
    "\n",
    "\n",
    "## the runtime of \"solar + hold out\" can be found at the progress bars in \"Simul_1d.html\""
   ]
  },
  {
   "cell_type": "markdown",
   "metadata": {},
   "source": [
    "---"
   ]
  },
  {
   "cell_type": "markdown",
   "metadata": {},
   "source": [
    "### More possibly, \n",
    "\n",
    "* <font size=\"4.5\"> you might run Anaconda3 on *Windows and openBLAS by default*; </font>\n",
    "* <font size=\"4.5\"> your PC would be similar to a *Dell Inspiron 24 5000 All-in-One* with *i7-10700 CPU*. </font>\n",
    "    * <font size=\"4.5\"> the CPU cooler is inefficient </font>\n",
    "    * <font size=\"4.5\"> the CPU base frequency is below 3.6GHz </font>\n",
    "\n",
    "### Thus, we also include the runtime on the all-in-one mentioned above with *30 repetitions*\n",
    "\n",
    "|                     | SR | p/n = 100/100  |  p/n = 100/150  |  p/n = 100/200  |  p/n = 150/100  |  p/n = 200/150  |  p/n = 250/200  |  p/n = 400/200  |  p/n = 800/400  |  p/n = 1200/600  |\n",
    "| ------------------: | :----------------------------: | :----------: | :-----------: | :-----------: | :----------: | :-----------: | :-----------: | :-----------: | :-----------: | :------------: |\n",
    "| bsolar-3            | 3                              | 0\\.33        | 0\\.22         | 0\\.24         | 0\\.19        | 0\\.27         | 0\\.35         | 0\\.46         | 1\\.07         | 2\\.40          |\n",
    "| bolasso <br> (joblib parallel)             | 256                            | 6\\.71        | 11\\.88         | 9\\.37         | 7\\.22        | 13\\.05         | 24\\.39         | 38\\.44        | 608\\.94       | 1819\\.51        |\n",
    "| bolasso <br> (built-in parallel)                   | 256                                        | 6\\.78              | 11\\.94               | 18\\.67              | 7\\.50              | 16\\.25              | 25\\.75              | 46\\.41              | 636\\.29             | 1731\\.38              |"
   ]
  },
  {
   "cell_type": "markdown",
   "metadata": {},
   "source": [
    "---\n",
    "\n",
    "## **Read this before replication**\n",
    "\n",
    "## #1. the [\"tqdm progress bar\"](https://github.com/tqdm/tqdm)\n",
    "### After runing all the codes, you should see a progress bar below each simulation function. The progress bars are made by Python package *\"tqdm\"* with negligible overheads (80ns for the graphical output). As a result, it does not affect the accuracy of measuring runtime. \n",
    "\n",
    "## #2. the graphical interface of progress bar\n",
    "\n",
    "### The progress bar looks as follows (such as the one below *trial.simul_bsolar()* ). \n",
    "\n",
    "![the tqdm progress bar](./progress_bar.png)\n",
    "\n",
    "### From left to right, it displays\n",
    "\n",
    "* <font size=\"4.5\"> percentage of finished repetitions </font>\n",
    "* <font size=\"4.5\"> the progress bar </font>\n",
    "* <font size=\"4.5\"> number of finished repetitions &nbsp; $/$ &nbsp; number of total repetitions </font>\n",
    "* <font size=\"4.5\"> $[$ time spent &nbsp;  $<$ &nbsp;  time left to finish all repetitions, &nbsp;  average runtime based on finished repititions $]$ </font>\n",
    "* <font size=\"4.5\"> Note that the average time in either **iteration per second (it/s)** or **second per iteration (s/it)**; take the reciprical of **it/s** to make a clear comparison </font>\n",
    "\n",
    "## #3. the runtime length issue of bolasso\n",
    "\n",
    "### Beware that bolasso computation could take very long time. On a Thinkpad T480 laptop with i5-8500u CPU and 8G Ram, sometimes bolasso takes around 60 mins for each repetition at $p/n=1200/600$, implying that 200 hours for all 200 repetitions.\n",
    "\n",
    "### we highly recommend set **num_rep = 30** if your CPU frequency is lower than 3.6GHz.\n",
    "\n",
    "---"
   ]
  },
  {
   "cell_type": "markdown",
   "metadata": {},
   "source": [
    "## #4 : $\\log(p)/n \\rightarrow 0$"
   ]
  },
  {
   "cell_type": "code",
   "execution_count": 3,
   "metadata": {},
   "outputs": [],
   "source": [
    "num_rep = 30"
   ]
  },
  {
   "cell_type": "markdown",
   "metadata": {},
   "source": [
    "## #4(a): $p/n=400/200$ "
   ]
  },
  {
   "cell_type": "code",
   "execution_count": 4,
   "metadata": {},
   "outputs": [],
   "source": [
    "trial = simul_func(sample_size_0, n_dim_0, n_info, num_rep, step_size, rnd_seed)"
   ]
  },
  {
   "cell_type": "markdown",
   "metadata": {},
   "source": [
    "### run 200 repetitions for bolasso "
   ]
  },
  {
   "cell_type": "code",
   "execution_count": 5,
   "metadata": {},
   "outputs": [
    {
     "name": "stderr",
     "output_type": "stream",
     "text": [
      "100%|██████████| 30/30 [2:00:13<00:00, 240.46s/it]  \n"
     ]
    }
   ],
   "source": [
    "trial.simul_bolasso()"
   ]
  },
  {
   "cell_type": "markdown",
   "metadata": {},
   "source": [
    "## #4(b): $p/n=800/400$"
   ]
  },
  {
   "cell_type": "code",
   "execution_count": 6,
   "metadata": {},
   "outputs": [],
   "source": [
    "trial = simul_func(sample_size_1, n_dim_1, n_info, num_rep, step_size, rnd_seed)"
   ]
  },
  {
   "cell_type": "markdown",
   "metadata": {},
   "source": [
    "### run 200 repetitions for bolasso "
   ]
  },
  {
   "cell_type": "code",
   "execution_count": 7,
   "metadata": {},
   "outputs": [
    {
     "name": "stderr",
     "output_type": "stream",
     "text": [
      "100%|██████████| 30/30 [5:16:21<00:00, 632.72s/it]  \n"
     ]
    }
   ],
   "source": [
    "trial.simul_bolasso()"
   ]
  },
  {
   "cell_type": "markdown",
   "metadata": {},
   "source": [
    "## #4(c): $p/n=1200/600$"
   ]
  },
  {
   "cell_type": "code",
   "execution_count": 24,
   "metadata": {},
   "outputs": [],
   "source": [
    "trial = simul_func(sample_size_2, n_dim_2, n_info, num_rep, step_size, rnd_seed)"
   ]
  },
  {
   "cell_type": "markdown",
   "metadata": {},
   "source": [
    "### run 200 repetitions for bolasso "
   ]
  },
  {
   "cell_type": "code",
   "execution_count": 25,
   "metadata": {},
   "outputs": [
    {
     "name": "stderr",
     "output_type": "stream",
     "text": [
      "100%|██████████| 30/30 [11:46:11<00:00, 1412.39s/it]  \n"
     ]
    }
   ],
   "source": [
    "trial.simul_bolasso()"
   ]
  },
  {
   "cell_type": "markdown",
   "metadata": {},
   "source": [
    "---\n",
    "## #4 : $p/n \\rightarrow 0$"
   ]
  },
  {
   "cell_type": "code",
   "execution_count": 10,
   "metadata": {},
   "outputs": [],
   "source": [
    "n_dim_3 = 100 ; sample_size_3 = 100\n",
    "n_dim_4 = 100 ; sample_size_4 = 150\n",
    "n_dim_5 = 100 ; sample_size_5 = 200"
   ]
  },
  {
   "cell_type": "markdown",
   "metadata": {},
   "source": [
    "## #4(d) : $p/n = 100/100$"
   ]
  },
  {
   "cell_type": "code",
   "execution_count": 11,
   "metadata": {},
   "outputs": [],
   "source": [
    "trial = simul_func(sample_size_3, n_dim_3, n_info, num_rep, step_size, rnd_seed)"
   ]
  },
  {
   "cell_type": "markdown",
   "metadata": {},
   "source": [
    "### run 200 repetitions for bolasso "
   ]
  },
  {
   "cell_type": "code",
   "execution_count": 12,
   "metadata": {},
   "outputs": [
    {
     "name": "stderr",
     "output_type": "stream",
     "text": [
      "100%|██████████| 30/30 [08:29<00:00, 16.99s/it]\n"
     ]
    }
   ],
   "source": [
    "trial.simul_bolasso()"
   ]
  },
  {
   "cell_type": "markdown",
   "metadata": {},
   "source": [
    "## #4(d): $p/n = 100/150$"
   ]
  },
  {
   "cell_type": "code",
   "execution_count": 13,
   "metadata": {},
   "outputs": [],
   "source": [
    "trial = simul_func(sample_size_4, n_dim_4, n_info, num_rep, step_size, rnd_seed)"
   ]
  },
  {
   "cell_type": "markdown",
   "metadata": {},
   "source": [
    "### run 200 repetitions for bolasso "
   ]
  },
  {
   "cell_type": "code",
   "execution_count": 14,
   "metadata": {},
   "outputs": [
    {
     "name": "stderr",
     "output_type": "stream",
     "text": [
      "100%|██████████| 30/30 [30:40<00:00, 61.34s/it]\n"
     ]
    }
   ],
   "source": [
    "trial.simul_bolasso()"
   ]
  },
  {
   "cell_type": "markdown",
   "metadata": {},
   "source": [
    "## #4(e): $p/n=100/200$"
   ]
  },
  {
   "cell_type": "code",
   "execution_count": 15,
   "metadata": {},
   "outputs": [],
   "source": [
    "trial = simul_func(sample_size_5, n_dim_5, n_info, num_rep, step_size, rnd_seed)"
   ]
  },
  {
   "cell_type": "markdown",
   "metadata": {},
   "source": [
    "### run 200 repetitions for bolasso "
   ]
  },
  {
   "cell_type": "code",
   "execution_count": 16,
   "metadata": {},
   "outputs": [
    {
     "name": "stderr",
     "output_type": "stream",
     "text": [
      "100%|██████████| 30/30 [30:33<00:00, 61.10s/it]\n"
     ]
    }
   ],
   "source": [
    "trial.simul_bolasso()"
   ]
  },
  {
   "cell_type": "markdown",
   "metadata": {},
   "source": [
    "---\n",
    "## #4 : $p/n \\rightarrow 1$"
   ]
  },
  {
   "cell_type": "code",
   "execution_count": 17,
   "metadata": {},
   "outputs": [],
   "source": [
    "n_dim_6 = 150 ; sample_size_6 = 100\n",
    "n_dim_7 = 200 ; sample_size_7 = 150\n",
    "n_dim_8 = 250 ; sample_size_8 = 200"
   ]
  },
  {
   "cell_type": "markdown",
   "metadata": {},
   "source": [
    "## #4(f): $p/n=150/100$"
   ]
  },
  {
   "cell_type": "code",
   "execution_count": 18,
   "metadata": {},
   "outputs": [],
   "source": [
    "trial = simul_func(sample_size_6, n_dim_6, n_info, num_rep, step_size, rnd_seed)"
   ]
  },
  {
   "cell_type": "markdown",
   "metadata": {},
   "source": [
    "### run 200 repetitions for bolasso "
   ]
  },
  {
   "cell_type": "code",
   "execution_count": 19,
   "metadata": {},
   "outputs": [
    {
     "name": "stderr",
     "output_type": "stream",
     "text": [
      "100%|██████████| 30/30 [16:48<00:00, 33.60s/it]\n"
     ]
    }
   ],
   "source": [
    "trial.simul_bolasso()"
   ]
  },
  {
   "cell_type": "markdown",
   "metadata": {},
   "source": [
    "## #4(g): $p/n=200/150$"
   ]
  },
  {
   "cell_type": "code",
   "execution_count": 20,
   "metadata": {},
   "outputs": [],
   "source": [
    "trial = simul_func(sample_size_7, n_dim_7, n_info, num_rep, step_size, rnd_seed)"
   ]
  },
  {
   "cell_type": "markdown",
   "metadata": {},
   "source": [
    "### run 200 repetitions for bolasso "
   ]
  },
  {
   "cell_type": "code",
   "execution_count": 21,
   "metadata": {},
   "outputs": [
    {
     "name": "stderr",
     "output_type": "stream",
     "text": [
      "100%|██████████| 30/30 [1:23:29<00:00, 166.99s/it]\n"
     ]
    }
   ],
   "source": [
    "trial.simul_bolasso()"
   ]
  },
  {
   "cell_type": "markdown",
   "metadata": {},
   "source": [
    "## #4(h): $p/n=250/200$"
   ]
  },
  {
   "cell_type": "code",
   "execution_count": 22,
   "metadata": {},
   "outputs": [],
   "source": [
    "trial = simul_func(sample_size_8, n_dim_8, n_info, num_rep, step_size, rnd_seed)"
   ]
  },
  {
   "cell_type": "markdown",
   "metadata": {},
   "source": [
    "### run 200 repetitions for bolasso "
   ]
  },
  {
   "cell_type": "code",
   "execution_count": 23,
   "metadata": {},
   "outputs": [
    {
     "name": "stderr",
     "output_type": "stream",
     "text": [
      "100%|██████████| 30/30 [1:38:14<00:00, 196.50s/it]\n"
     ]
    }
   ],
   "source": [
    "trial.simul_bolasso()"
   ]
  },
  {
   "cell_type": "markdown",
   "metadata": {},
   "source": [
    "---\n",
    "\n",
    "## #5. output the raw results into HTML"
   ]
  },
  {
   "cell_type": "code",
   "execution_count": 26,
   "metadata": {},
   "outputs": [
    {
     "name": "stdout",
     "output_type": "stream",
     "text": [
      "[NbConvertApp] Converting notebook Simul_3_runtime_built_in_parallel.ipynb to html\n",
      "[NbConvertApp] Writing 608712 bytes to Simul_3_runtime_built_in_parallel.html\n"
     ]
    }
   ],
   "source": [
    "!rm -rf Simul_3_runtime_built_in_parallel.html\n",
    "!jupyter nbconvert --to html Simul_3_runtime_built_in_parallel.ipynb "
   ]
  },
  {
   "cell_type": "code",
   "execution_count": null,
   "metadata": {},
   "outputs": [],
   "source": []
  }
 ],
 "metadata": {
  "kernelspec": {
   "display_name": "Python 3",
   "language": "python",
   "name": "python3"
  },
  "language_info": {
   "codemirror_mode": {
    "name": "ipython",
    "version": 3
   },
   "file_extension": ".py",
   "mimetype": "text/x-python",
   "name": "python",
   "nbconvert_exporter": "python",
   "pygments_lexer": "ipython3",
   "version": "3.7.10"
  }
 },
 "nbformat": 4,
 "nbformat_minor": 4
}
