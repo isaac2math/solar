{
 "cells": [
  {
   "cell_type": "markdown",
   "metadata": {},
   "source": [
    "<center><h1> numerical result of \"solar + hold-out\" </h1></center>\n",
    "\n",
    "---"
   ]
  },
  {
   "cell_type": "markdown",
   "metadata": {},
   "source": [
    "## Check the following before running the code\n",
    "\n",
    "### (a) Read \"Read_Me_First.docx\" first, which introduces the package\n",
    "\n",
    "### (b) Before replication, delete all .p files in the \"./numerical_result\" folder. The .p files record the numerical results of the our computation.\n",
    "\n",
    "### (c) To avoid confusion, reset your kernel before you running the notebook (to clear memory): Menu \"Kernel\" $\\rightarrow$ \"Restart Kernel and clear all outputs\".\n",
    "\n",
    "### (d) To evaluate the code for simulation replication,\n",
    "* <font size=\"4.5\"> click : Menu \"Kernel\" $\\rightarrow$ \"Restart Kernel and Run All Cells\" </font>\n",
    "* <font size=\"4.5\"> or, select a cell of code, press \"shift\" and \"enter\". Run all cells to avoid errors </font>\n",
    "\n",
    "### (e) Check \"joblib\", \"scikit-learn\", \"numpy\", \"matplotlib\" and \"tqdm\" are installed. If not,\n",
    "* <font size=\"4.5\"> run \"pip install joblib scikit-learn numpy matplotlib tqdm\" in terminal (Mac OS or Linux) or command prompt as administrator (Windows) if you use Python3 without any IDE. </font>\n",
    "* <font size=\"4.5\"> we highly recommend installing Anaconda3 version 2020-11 directly to avoid package management (all packages mentioned above are installed by default).</font>\n",
    "\n",
    "---"
   ]
  },
  {
   "cell_type": "markdown",
   "metadata": {},
   "source": [
    "## #1: import all modules\n",
    "\n",
    "* <font size=\"4.5\"> \"pickle\" is used to save all computation results into \".p\" files, which can be loaded later. </font>\n",
    "\n",
    "* <font size=\"4.5\"> For simplicity and elegancy, all relevant functions and classes are coded in \"simul_plot_holdout_average_parallel.py\". </font>"
   ]
  },
  {
   "cell_type": "code",
   "execution_count": 1,
   "metadata": {},
   "outputs": [],
   "source": [
    "%reset -f\n",
    "\n",
    "from simul_plot_holdout_average_parallel import simul_plot\n",
    "\n",
    "import numpy             as np\n",
    "import matplotlib.pyplot as plt\n",
    "import pandas            as pd\n",
    "import pickle\n",
    "import os\n",
    "import errno"
   ]
  },
  {
   "cell_type": "markdown",
   "metadata": {},
   "source": [
    "---\n",
    "\n",
    "## #2: define all functions\n",
    "\n",
    "## #2(a): computation and visualization"
   ]
  },
  {
   "cell_type": "code",
   "execution_count": 2,
   "metadata": {},
   "outputs": [],
   "source": [
    "def func_simul(sample_size, n_dim, n_info, num_rep, step_size, rnd_seed, repro):\n",
    "    \n",
    "    #set random seed\n",
    "    np.random.seed(rnd_seed)\n",
    "\n",
    "    print(\"compute the simulation with sample size \"+str(sample_size)+\" and number of variables \"+str(n_dim))\n",
    "\n",
    "    trial = simul_plot(sample_size, n_dim, n_info, num_rep, step_size, rnd_seed)\n",
    "\n",
    "    pkl_file = \"./numerical_result/solar_simul_n_\" + str(sample_size) + \"_p_\" + str(n_dim) + \"_hold_out.p\"\n",
    "\n",
    "    if repro == True:\n",
    "\n",
    "        _, solar_Q_opt_c_stack = trial.simul_func()\n",
    "\n",
    "        #save all the computation result into Pickle files\n",
    "        #create the subdirectory if not existing\n",
    "        if not os.path.exists(os.path.dirname(pkl_file)):\n",
    "            try:\n",
    "                os.makedirs(os.path.dirname(pkl_file))\n",
    "            # Guard against race condition\n",
    "            except OSError as exc: \n",
    "                if exc.errno != errno.EEXIST:\n",
    "                    raise\n",
    "        with open(pkl_file, \"wb\") as f:\n",
    "            pickle.dump( solar_Q_opt_c_stack, f)\n",
    "\n",
    "    else:\n",
    "        with open(pkl_file, \"rb\") as f:\n",
    "            solar_Q_opt_c_stack = pickle.load( f )\n",
    "\n",
    "    #compute the number of selected variable of solar\n",
    "    ## set the container\n",
    "    solar_len_array = np.empty([len(solar_Q_opt_c_stack)])\n",
    "\n",
    "    ##count the number \n",
    "    for i in range(num_rep):\n",
    "        solar_len_array[i]  = len(solar_Q_opt_c_stack[i])\n",
    "\n",
    "    #compute the marginal probability of selecting each informative variable\n",
    "    ## set the container\n",
    "    solar_var_array  = np.empty([5])\n",
    "\n",
    "    ##concatenate results\n",
    "    solar_vari_appe_stack  = np.concatenate(solar_Q_opt_c_stack ,0)\n",
    "\n",
    "    ##count the number \n",
    "    for i in range(5):\n",
    "        solar_var_array[i]  = (solar_vari_appe_stack  == i).sum()/num_rep\n",
    "\n",
    "    #sparsity table\n",
    "    mean_col   = [np.mean(solar_len_array)]\n",
    "    median_col = [np.median(solar_len_array)]\n",
    "    IQR_col    = [np.quantile(solar_len_array , 0.75) - np.quantile(solar_len_array , 0.25)]\n",
    "\n",
    "    df1 = pd.concat([pd.DataFrame({'algo':['solar + hold-out']}), \n",
    "                     pd.DataFrame({'Number of selected variables (mean)': mean_col}),\n",
    "                     pd.DataFrame({'Number of selected variables (median)': median_col}),\n",
    "                     pd.DataFrame({'Number of selected variables (IQR)': IQR_col})], \n",
    "                    axis=1, join='inner')\n",
    "\n",
    "    #accuracy table\n",
    "    prob_0 = [solar_var_array[0]]\n",
    "    prob_1 = [solar_var_array[1]]\n",
    "    prob_2 = [solar_var_array[2]]\n",
    "    prob_3 = [solar_var_array[3]]\n",
    "    prob_4 = [solar_var_array[4]]\n",
    "\n",
    "    df2 = pd.concat([pd.DataFrame({'algo':['solar + hold-out']}), \n",
    "                     pd.DataFrame({'Pr(select X1)': prob_0}),\n",
    "                     pd.DataFrame({'Pr(select X1)': prob_1}),\n",
    "                     pd.DataFrame({'Pr(select X1)': prob_2}),\n",
    "                     pd.DataFrame({'Pr(select X1)': prob_3}),\n",
    "                     pd.DataFrame({'Pr(select X1)': prob_4})],\n",
    "                    axis=1, join='inner')\n",
    "\n",
    "    return df1.round(2), df2.round(2)"
   ]
  },
  {
   "cell_type": "markdown",
   "metadata": {},
   "source": [
    "---\n",
    "\n",
    "## #3(a): define inputs values\n",
    "\n",
    "| <font size=\"4.5\"> variable name </font> | <font size=\"4.5\">  meaning </font> |\n",
    "|-|-|\n",
    "| <font size=\"4.5\">  sample_size  </font> | <font size=\"4.5\">  the sample size $n$ in the paper; </font>| \n",
    "| <font size=\"4.5\">  n_dim        </font> | <font size=\"4.5\">  the number of variables (informative + redundant) in $X$, $p$ in the paper; </font>| \n",
    "| <font size=\"4.5\">  n_info       </font> | <font size=\"4.5\">  the number of informative variables in $X$; </font>| \n",
    "| <font size=\"4.5\">  n_repeat     </font> | <font size=\"4.5\">  the number of subsamples generated by solar; </font>| \n",
    "| <font size=\"4.5\">  num_rep      </font> | <font size=\"4.5\">  the total repetition number of this simulation; </font>|\n",
    "| <font size=\"4.5\">  step_size    </font> | <font size=\"4.5\">  the step size for tuning $c$; </font>| \n",
    "| <font size=\"4.5\">  rnd_seed     </font> | <font size=\"4.5\">  the random seed value; </font>| \n",
    "\n",
    "### #3(b): define DGP\n",
    "\n",
    "* <font size=\"4.5\"> the population regression equation is $$Y = 2\\cdot \\mathbf{x}_0 + 3\\cdot \\mathbf{x}_1 + 4\\cdot \\mathbf{x}_2 + 5\\cdot \\mathbf{x}_3 + 6\\cdot \\mathbf{x}_4  + u,$$ \n",
    "* <font size=\"4.5\"> To change the simulation settings, simply change the input values. If you change *n_info* you will adjust the DGP as follows: </font>\n",
    "    * <font size=\"4.5\"> If $i > \\mbox{n_info} - 1$ and $i \\in \\left[ 0, 1, 2, \\ldots, p-1 \\right]$, $\\beta_i = 0$ in population;</font>\n",
    "    * <font size=\"4.5\"> If $i \\leqslant \\mbox{n_info} - 1$ and $i \\in \\left[ 0, 1, 2, \\ldots, p-1 \\right]$, $\\beta_i = i + 2$ in population</font>"
   ]
  },
  {
   "cell_type": "code",
   "execution_count": 3,
   "metadata": {},
   "outputs": [],
   "source": [
    "n_dim     = 100\n",
    "n_info    = 5\n",
    "step_size = -0.01\n",
    "num_rep   = 200\n",
    "rnd_seed  = 0\n",
    "\n",
    "sample_size_0 = 100\n",
    "sample_size_1 = 150\n",
    "sample_size_2 = 200"
   ]
  },
  {
   "cell_type": "markdown",
   "metadata": {},
   "source": [
    "---\n",
    "\n",
    "## #4: Result"
   ]
  },
  {
   "cell_type": "markdown",
   "metadata": {},
   "source": [
    " * <font size=\"4.5\"> if you only want to see the raw result, please leave variable *repro* as boolean *False* </font>\n",
    " * <font size=\"4.5\"> for replication, please change variable *repro* to boolean *True* </font>"
   ]
  },
  {
   "cell_type": "code",
   "execution_count": 4,
   "metadata": {},
   "outputs": [],
   "source": [
    "repro = False"
   ]
  },
  {
   "cell_type": "markdown",
   "metadata": {},
   "source": [
    "  * ### Numpy, Sklearn and Python are actively updated. If you use different version, replication results may be slightly different from the paper (see Read_me_first.pdf for detail).\n",
    "\n",
    "  * ### To rerun this part, first delete all .p files in the \"raw_result\" folder to avoid possible bug."
   ]
  },
  {
   "cell_type": "markdown",
   "metadata": {},
   "source": [
    "# Part 1 : $p/n \\rightarrow 0$"
   ]
  },
  {
   "cell_type": "markdown",
   "metadata": {},
   "source": [
    "## #4(a): $p/n=100/100$ "
   ]
  },
  {
   "cell_type": "code",
   "execution_count": 5,
   "metadata": {},
   "outputs": [
    {
     "name": "stderr",
     "output_type": "stream",
     "text": [
      "  0%|          | 0/200 [00:00<?, ?it/s]"
     ]
    },
    {
     "name": "stdout",
     "output_type": "stream",
     "text": [
      "compute the simulation with sample size 100 and number of variables 100\n"
     ]
    },
    {
     "name": "stderr",
     "output_type": "stream",
     "text": [
      "100%|██████████| 200/200 [00:19<00:00, 10.31it/s]\n"
     ]
    }
   ],
   "source": [
    "df1, df2 = func_simul(sample_size_0, n_dim, n_info, num_rep, step_size, rnd_seed, repro)"
   ]
  },
  {
   "cell_type": "code",
   "execution_count": 6,
   "metadata": {},
   "outputs": [
    {
     "data": {
      "text/html": [
       "<div>\n",
       "<style scoped>\n",
       "    .dataframe tbody tr th:only-of-type {\n",
       "        vertical-align: middle;\n",
       "    }\n",
       "\n",
       "    .dataframe tbody tr th {\n",
       "        vertical-align: top;\n",
       "    }\n",
       "\n",
       "    .dataframe thead th {\n",
       "        text-align: right;\n",
       "    }\n",
       "</style>\n",
       "<table border=\"1\" class=\"dataframe\">\n",
       "  <thead>\n",
       "    <tr style=\"text-align: right;\">\n",
       "      <th></th>\n",
       "      <th>algo</th>\n",
       "      <th>Number of selected variables (mean)</th>\n",
       "      <th>Number of selected variables (median)</th>\n",
       "      <th>Number of selected variables (IQR)</th>\n",
       "    </tr>\n",
       "  </thead>\n",
       "  <tbody>\n",
       "    <tr>\n",
       "      <th>0</th>\n",
       "      <td>solar + hold-out</td>\n",
       "      <td>5.02</td>\n",
       "      <td>5.0</td>\n",
       "      <td>0.0</td>\n",
       "    </tr>\n",
       "  </tbody>\n",
       "</table>\n",
       "</div>"
      ],
      "text/plain": [
       "               algo  Number of selected variables (mean)  \\\n",
       "0  solar + hold-out                                 5.02   \n",
       "\n",
       "   Number of selected variables (median)  Number of selected variables (IQR)  \n",
       "0                                    5.0                                 0.0  "
      ]
     },
     "execution_count": 6,
     "metadata": {},
     "output_type": "execute_result"
    }
   ],
   "source": [
    "df1"
   ]
  },
  {
   "cell_type": "code",
   "execution_count": 7,
   "metadata": {},
   "outputs": [
    {
     "data": {
      "text/html": [
       "<div>\n",
       "<style scoped>\n",
       "    .dataframe tbody tr th:only-of-type {\n",
       "        vertical-align: middle;\n",
       "    }\n",
       "\n",
       "    .dataframe tbody tr th {\n",
       "        vertical-align: top;\n",
       "    }\n",
       "\n",
       "    .dataframe thead th {\n",
       "        text-align: right;\n",
       "    }\n",
       "</style>\n",
       "<table border=\"1\" class=\"dataframe\">\n",
       "  <thead>\n",
       "    <tr style=\"text-align: right;\">\n",
       "      <th></th>\n",
       "      <th>algo</th>\n",
       "      <th>Pr(select X1)</th>\n",
       "      <th>Pr(select X1)</th>\n",
       "      <th>Pr(select X1)</th>\n",
       "      <th>Pr(select X1)</th>\n",
       "      <th>Pr(select X1)</th>\n",
       "    </tr>\n",
       "  </thead>\n",
       "  <tbody>\n",
       "    <tr>\n",
       "      <th>0</th>\n",
       "      <td>solar + hold-out</td>\n",
       "      <td>0.99</td>\n",
       "      <td>0.99</td>\n",
       "      <td>0.99</td>\n",
       "      <td>0.99</td>\n",
       "      <td>0.99</td>\n",
       "    </tr>\n",
       "  </tbody>\n",
       "</table>\n",
       "</div>"
      ],
      "text/plain": [
       "               algo  Pr(select X1)  Pr(select X1)  Pr(select X1)  \\\n",
       "0  solar + hold-out           0.99           0.99           0.99   \n",
       "\n",
       "   Pr(select X1)  Pr(select X1)  \n",
       "0           0.99           0.99  "
      ]
     },
     "execution_count": 7,
     "metadata": {},
     "output_type": "execute_result"
    }
   ],
   "source": [
    "df2"
   ]
  },
  {
   "cell_type": "markdown",
   "metadata": {},
   "source": [
    "## #4(b): $p/n=100/150$"
   ]
  },
  {
   "cell_type": "code",
   "execution_count": 8,
   "metadata": {},
   "outputs": [
    {
     "name": "stderr",
     "output_type": "stream",
     "text": [
      "  0%|          | 1/200 [00:00<00:20,  9.68it/s]"
     ]
    },
    {
     "name": "stdout",
     "output_type": "stream",
     "text": [
      "compute the simulation with sample size 150 and number of variables 100\n"
     ]
    },
    {
     "name": "stderr",
     "output_type": "stream",
     "text": [
      "100%|██████████| 200/200 [00:19<00:00, 10.15it/s]\n"
     ]
    }
   ],
   "source": [
    "df1, df2 = func_simul(sample_size_1, n_dim, n_info, num_rep, step_size, rnd_seed, repro)"
   ]
  },
  {
   "cell_type": "code",
   "execution_count": 9,
   "metadata": {},
   "outputs": [
    {
     "data": {
      "text/html": [
       "<div>\n",
       "<style scoped>\n",
       "    .dataframe tbody tr th:only-of-type {\n",
       "        vertical-align: middle;\n",
       "    }\n",
       "\n",
       "    .dataframe tbody tr th {\n",
       "        vertical-align: top;\n",
       "    }\n",
       "\n",
       "    .dataframe thead th {\n",
       "        text-align: right;\n",
       "    }\n",
       "</style>\n",
       "<table border=\"1\" class=\"dataframe\">\n",
       "  <thead>\n",
       "    <tr style=\"text-align: right;\">\n",
       "      <th></th>\n",
       "      <th>algo</th>\n",
       "      <th>Number of selected variables (mean)</th>\n",
       "      <th>Number of selected variables (median)</th>\n",
       "      <th>Number of selected variables (IQR)</th>\n",
       "    </tr>\n",
       "  </thead>\n",
       "  <tbody>\n",
       "    <tr>\n",
       "      <th>0</th>\n",
       "      <td>solar + hold-out</td>\n",
       "      <td>5.12</td>\n",
       "      <td>5.0</td>\n",
       "      <td>0.0</td>\n",
       "    </tr>\n",
       "  </tbody>\n",
       "</table>\n",
       "</div>"
      ],
      "text/plain": [
       "               algo  Number of selected variables (mean)  \\\n",
       "0  solar + hold-out                                 5.12   \n",
       "\n",
       "   Number of selected variables (median)  Number of selected variables (IQR)  \n",
       "0                                    5.0                                 0.0  "
      ]
     },
     "execution_count": 9,
     "metadata": {},
     "output_type": "execute_result"
    }
   ],
   "source": [
    "df1"
   ]
  },
  {
   "cell_type": "code",
   "execution_count": 10,
   "metadata": {},
   "outputs": [
    {
     "data": {
      "text/html": [
       "<div>\n",
       "<style scoped>\n",
       "    .dataframe tbody tr th:only-of-type {\n",
       "        vertical-align: middle;\n",
       "    }\n",
       "\n",
       "    .dataframe tbody tr th {\n",
       "        vertical-align: top;\n",
       "    }\n",
       "\n",
       "    .dataframe thead th {\n",
       "        text-align: right;\n",
       "    }\n",
       "</style>\n",
       "<table border=\"1\" class=\"dataframe\">\n",
       "  <thead>\n",
       "    <tr style=\"text-align: right;\">\n",
       "      <th></th>\n",
       "      <th>algo</th>\n",
       "      <th>Pr(select X1)</th>\n",
       "      <th>Pr(select X1)</th>\n",
       "      <th>Pr(select X1)</th>\n",
       "      <th>Pr(select X1)</th>\n",
       "      <th>Pr(select X1)</th>\n",
       "    </tr>\n",
       "  </thead>\n",
       "  <tbody>\n",
       "    <tr>\n",
       "      <th>0</th>\n",
       "      <td>solar + hold-out</td>\n",
       "      <td>1.0</td>\n",
       "      <td>1.0</td>\n",
       "      <td>1.0</td>\n",
       "      <td>1.0</td>\n",
       "      <td>1.0</td>\n",
       "    </tr>\n",
       "  </tbody>\n",
       "</table>\n",
       "</div>"
      ],
      "text/plain": [
       "               algo  Pr(select X1)  Pr(select X1)  Pr(select X1)  \\\n",
       "0  solar + hold-out            1.0            1.0            1.0   \n",
       "\n",
       "   Pr(select X1)  Pr(select X1)  \n",
       "0            1.0            1.0  "
      ]
     },
     "execution_count": 10,
     "metadata": {},
     "output_type": "execute_result"
    }
   ],
   "source": [
    "df2"
   ]
  },
  {
   "cell_type": "markdown",
   "metadata": {},
   "source": [
    "## #4(c): $p/n=100/200$"
   ]
  },
  {
   "cell_type": "code",
   "execution_count": 11,
   "metadata": {},
   "outputs": [
    {
     "name": "stderr",
     "output_type": "stream",
     "text": [
      "  0%|          | 1/200 [00:00<00:21,  9.40it/s]"
     ]
    },
    {
     "name": "stdout",
     "output_type": "stream",
     "text": [
      "compute the simulation with sample size 200 and number of variables 100\n"
     ]
    },
    {
     "name": "stderr",
     "output_type": "stream",
     "text": [
      "100%|██████████| 200/200 [00:20<00:00,  9.71it/s]\n"
     ]
    }
   ],
   "source": [
    "df1, df2 = func_simul(sample_size_2, n_dim, n_info, num_rep, step_size, rnd_seed, repro)"
   ]
  },
  {
   "cell_type": "code",
   "execution_count": 12,
   "metadata": {},
   "outputs": [
    {
     "data": {
      "text/html": [
       "<div>\n",
       "<style scoped>\n",
       "    .dataframe tbody tr th:only-of-type {\n",
       "        vertical-align: middle;\n",
       "    }\n",
       "\n",
       "    .dataframe tbody tr th {\n",
       "        vertical-align: top;\n",
       "    }\n",
       "\n",
       "    .dataframe thead th {\n",
       "        text-align: right;\n",
       "    }\n",
       "</style>\n",
       "<table border=\"1\" class=\"dataframe\">\n",
       "  <thead>\n",
       "    <tr style=\"text-align: right;\">\n",
       "      <th></th>\n",
       "      <th>algo</th>\n",
       "      <th>Number of selected variables (mean)</th>\n",
       "      <th>Number of selected variables (median)</th>\n",
       "      <th>Number of selected variables (IQR)</th>\n",
       "    </tr>\n",
       "  </thead>\n",
       "  <tbody>\n",
       "    <tr>\n",
       "      <th>0</th>\n",
       "      <td>solar + hold-out</td>\n",
       "      <td>5.17</td>\n",
       "      <td>5.0</td>\n",
       "      <td>0.0</td>\n",
       "    </tr>\n",
       "  </tbody>\n",
       "</table>\n",
       "</div>"
      ],
      "text/plain": [
       "               algo  Number of selected variables (mean)  \\\n",
       "0  solar + hold-out                                 5.17   \n",
       "\n",
       "   Number of selected variables (median)  Number of selected variables (IQR)  \n",
       "0                                    5.0                                 0.0  "
      ]
     },
     "execution_count": 12,
     "metadata": {},
     "output_type": "execute_result"
    }
   ],
   "source": [
    "df1"
   ]
  },
  {
   "cell_type": "code",
   "execution_count": 13,
   "metadata": {},
   "outputs": [
    {
     "data": {
      "text/html": [
       "<div>\n",
       "<style scoped>\n",
       "    .dataframe tbody tr th:only-of-type {\n",
       "        vertical-align: middle;\n",
       "    }\n",
       "\n",
       "    .dataframe tbody tr th {\n",
       "        vertical-align: top;\n",
       "    }\n",
       "\n",
       "    .dataframe thead th {\n",
       "        text-align: right;\n",
       "    }\n",
       "</style>\n",
       "<table border=\"1\" class=\"dataframe\">\n",
       "  <thead>\n",
       "    <tr style=\"text-align: right;\">\n",
       "      <th></th>\n",
       "      <th>algo</th>\n",
       "      <th>Pr(select X1)</th>\n",
       "      <th>Pr(select X1)</th>\n",
       "      <th>Pr(select X1)</th>\n",
       "      <th>Pr(select X1)</th>\n",
       "      <th>Pr(select X1)</th>\n",
       "    </tr>\n",
       "  </thead>\n",
       "  <tbody>\n",
       "    <tr>\n",
       "      <th>0</th>\n",
       "      <td>solar + hold-out</td>\n",
       "      <td>1.0</td>\n",
       "      <td>1.0</td>\n",
       "      <td>1.0</td>\n",
       "      <td>1.0</td>\n",
       "      <td>1.0</td>\n",
       "    </tr>\n",
       "  </tbody>\n",
       "</table>\n",
       "</div>"
      ],
      "text/plain": [
       "               algo  Pr(select X1)  Pr(select X1)  Pr(select X1)  \\\n",
       "0  solar + hold-out            1.0            1.0            1.0   \n",
       "\n",
       "   Pr(select X1)  Pr(select X1)  \n",
       "0            1.0            1.0  "
      ]
     },
     "execution_count": 13,
     "metadata": {},
     "output_type": "execute_result"
    }
   ],
   "source": [
    "df2"
   ]
  },
  {
   "cell_type": "markdown",
   "metadata": {},
   "source": [
    "# Part 2 : $p/n \\rightarrow 1$"
   ]
  },
  {
   "cell_type": "code",
   "execution_count": 14,
   "metadata": {},
   "outputs": [],
   "source": [
    "sample_size_3 = 100; n_dim_3 = 150\n",
    "sample_size_4 = 150; n_dim_4 = 200\n",
    "sample_size_5 = 200; n_dim_5 = 250"
   ]
  },
  {
   "cell_type": "markdown",
   "metadata": {},
   "source": [
    "## #4(d): $p/n=150/100$"
   ]
  },
  {
   "cell_type": "code",
   "execution_count": 15,
   "metadata": {},
   "outputs": [
    {
     "name": "stderr",
     "output_type": "stream",
     "text": [
      "  1%|          | 2/200 [00:00<00:17, 11.02it/s]"
     ]
    },
    {
     "name": "stdout",
     "output_type": "stream",
     "text": [
      "compute the simulation with sample size 100 and number of variables 150\n"
     ]
    },
    {
     "name": "stderr",
     "output_type": "stream",
     "text": [
      "100%|██████████| 200/200 [00:19<00:00, 10.38it/s]\n"
     ]
    }
   ],
   "source": [
    "df1, df2 = func_simul(sample_size_3, n_dim_3, n_info, num_rep, step_size, rnd_seed, repro)"
   ]
  },
  {
   "cell_type": "code",
   "execution_count": 16,
   "metadata": {},
   "outputs": [
    {
     "data": {
      "text/html": [
       "<div>\n",
       "<style scoped>\n",
       "    .dataframe tbody tr th:only-of-type {\n",
       "        vertical-align: middle;\n",
       "    }\n",
       "\n",
       "    .dataframe tbody tr th {\n",
       "        vertical-align: top;\n",
       "    }\n",
       "\n",
       "    .dataframe thead th {\n",
       "        text-align: right;\n",
       "    }\n",
       "</style>\n",
       "<table border=\"1\" class=\"dataframe\">\n",
       "  <thead>\n",
       "    <tr style=\"text-align: right;\">\n",
       "      <th></th>\n",
       "      <th>algo</th>\n",
       "      <th>Number of selected variables (mean)</th>\n",
       "      <th>Number of selected variables (median)</th>\n",
       "      <th>Number of selected variables (IQR)</th>\n",
       "    </tr>\n",
       "  </thead>\n",
       "  <tbody>\n",
       "    <tr>\n",
       "      <th>0</th>\n",
       "      <td>solar + hold-out</td>\n",
       "      <td>4.99</td>\n",
       "      <td>5.0</td>\n",
       "      <td>0.0</td>\n",
       "    </tr>\n",
       "  </tbody>\n",
       "</table>\n",
       "</div>"
      ],
      "text/plain": [
       "               algo  Number of selected variables (mean)  \\\n",
       "0  solar + hold-out                                 4.99   \n",
       "\n",
       "   Number of selected variables (median)  Number of selected variables (IQR)  \n",
       "0                                    5.0                                 0.0  "
      ]
     },
     "execution_count": 16,
     "metadata": {},
     "output_type": "execute_result"
    }
   ],
   "source": [
    "df1"
   ]
  },
  {
   "cell_type": "code",
   "execution_count": 17,
   "metadata": {},
   "outputs": [
    {
     "data": {
      "text/html": [
       "<div>\n",
       "<style scoped>\n",
       "    .dataframe tbody tr th:only-of-type {\n",
       "        vertical-align: middle;\n",
       "    }\n",
       "\n",
       "    .dataframe tbody tr th {\n",
       "        vertical-align: top;\n",
       "    }\n",
       "\n",
       "    .dataframe thead th {\n",
       "        text-align: right;\n",
       "    }\n",
       "</style>\n",
       "<table border=\"1\" class=\"dataframe\">\n",
       "  <thead>\n",
       "    <tr style=\"text-align: right;\">\n",
       "      <th></th>\n",
       "      <th>algo</th>\n",
       "      <th>Pr(select X1)</th>\n",
       "      <th>Pr(select X1)</th>\n",
       "      <th>Pr(select X1)</th>\n",
       "      <th>Pr(select X1)</th>\n",
       "      <th>Pr(select X1)</th>\n",
       "    </tr>\n",
       "  </thead>\n",
       "  <tbody>\n",
       "    <tr>\n",
       "      <th>0</th>\n",
       "      <td>solar + hold-out</td>\n",
       "      <td>0.98</td>\n",
       "      <td>0.98</td>\n",
       "      <td>0.98</td>\n",
       "      <td>0.98</td>\n",
       "      <td>0.99</td>\n",
       "    </tr>\n",
       "  </tbody>\n",
       "</table>\n",
       "</div>"
      ],
      "text/plain": [
       "               algo  Pr(select X1)  Pr(select X1)  Pr(select X1)  \\\n",
       "0  solar + hold-out           0.98           0.98           0.98   \n",
       "\n",
       "   Pr(select X1)  Pr(select X1)  \n",
       "0           0.98           0.99  "
      ]
     },
     "execution_count": 17,
     "metadata": {},
     "output_type": "execute_result"
    }
   ],
   "source": [
    "df2"
   ]
  },
  {
   "cell_type": "markdown",
   "metadata": {},
   "source": [
    "## #4(e): $p/n=200/150$"
   ]
  },
  {
   "cell_type": "code",
   "execution_count": 18,
   "metadata": {},
   "outputs": [
    {
     "name": "stderr",
     "output_type": "stream",
     "text": [
      "  0%|          | 1/200 [00:00<00:25,  7.93it/s]"
     ]
    },
    {
     "name": "stdout",
     "output_type": "stream",
     "text": [
      "compute the simulation with sample size 150 and number of variables 200\n"
     ]
    },
    {
     "name": "stderr",
     "output_type": "stream",
     "text": [
      "100%|██████████| 200/200 [00:24<00:00,  8.18it/s]\n"
     ]
    }
   ],
   "source": [
    "df1, df2 = func_simul(sample_size_4, n_dim_4, n_info, num_rep, step_size, rnd_seed, repro)"
   ]
  },
  {
   "cell_type": "code",
   "execution_count": 19,
   "metadata": {},
   "outputs": [
    {
     "data": {
      "text/html": [
       "<div>\n",
       "<style scoped>\n",
       "    .dataframe tbody tr th:only-of-type {\n",
       "        vertical-align: middle;\n",
       "    }\n",
       "\n",
       "    .dataframe tbody tr th {\n",
       "        vertical-align: top;\n",
       "    }\n",
       "\n",
       "    .dataframe thead th {\n",
       "        text-align: right;\n",
       "    }\n",
       "</style>\n",
       "<table border=\"1\" class=\"dataframe\">\n",
       "  <thead>\n",
       "    <tr style=\"text-align: right;\">\n",
       "      <th></th>\n",
       "      <th>algo</th>\n",
       "      <th>Number of selected variables (mean)</th>\n",
       "      <th>Number of selected variables (median)</th>\n",
       "      <th>Number of selected variables (IQR)</th>\n",
       "    </tr>\n",
       "  </thead>\n",
       "  <tbody>\n",
       "    <tr>\n",
       "      <th>0</th>\n",
       "      <td>solar + hold-out</td>\n",
       "      <td>5.16</td>\n",
       "      <td>5.0</td>\n",
       "      <td>0.0</td>\n",
       "    </tr>\n",
       "  </tbody>\n",
       "</table>\n",
       "</div>"
      ],
      "text/plain": [
       "               algo  Number of selected variables (mean)  \\\n",
       "0  solar + hold-out                                 5.16   \n",
       "\n",
       "   Number of selected variables (median)  Number of selected variables (IQR)  \n",
       "0                                    5.0                                 0.0  "
      ]
     },
     "execution_count": 19,
     "metadata": {},
     "output_type": "execute_result"
    }
   ],
   "source": [
    "df1"
   ]
  },
  {
   "cell_type": "code",
   "execution_count": 20,
   "metadata": {},
   "outputs": [
    {
     "data": {
      "text/html": [
       "<div>\n",
       "<style scoped>\n",
       "    .dataframe tbody tr th:only-of-type {\n",
       "        vertical-align: middle;\n",
       "    }\n",
       "\n",
       "    .dataframe tbody tr th {\n",
       "        vertical-align: top;\n",
       "    }\n",
       "\n",
       "    .dataframe thead th {\n",
       "        text-align: right;\n",
       "    }\n",
       "</style>\n",
       "<table border=\"1\" class=\"dataframe\">\n",
       "  <thead>\n",
       "    <tr style=\"text-align: right;\">\n",
       "      <th></th>\n",
       "      <th>algo</th>\n",
       "      <th>Pr(select X1)</th>\n",
       "      <th>Pr(select X1)</th>\n",
       "      <th>Pr(select X1)</th>\n",
       "      <th>Pr(select X1)</th>\n",
       "      <th>Pr(select X1)</th>\n",
       "    </tr>\n",
       "  </thead>\n",
       "  <tbody>\n",
       "    <tr>\n",
       "      <th>0</th>\n",
       "      <td>solar + hold-out</td>\n",
       "      <td>1.0</td>\n",
       "      <td>1.0</td>\n",
       "      <td>1.0</td>\n",
       "      <td>1.0</td>\n",
       "      <td>1.0</td>\n",
       "    </tr>\n",
       "  </tbody>\n",
       "</table>\n",
       "</div>"
      ],
      "text/plain": [
       "               algo  Pr(select X1)  Pr(select X1)  Pr(select X1)  \\\n",
       "0  solar + hold-out            1.0            1.0            1.0   \n",
       "\n",
       "   Pr(select X1)  Pr(select X1)  \n",
       "0            1.0            1.0  "
      ]
     },
     "execution_count": 20,
     "metadata": {},
     "output_type": "execute_result"
    }
   ],
   "source": [
    "df2"
   ]
  },
  {
   "cell_type": "markdown",
   "metadata": {},
   "source": [
    "## #4(f): $p/n=250/200$"
   ]
  },
  {
   "cell_type": "code",
   "execution_count": 21,
   "metadata": {},
   "outputs": [
    {
     "name": "stderr",
     "output_type": "stream",
     "text": [
      "  0%|          | 1/200 [00:00<00:31,  6.31it/s]"
     ]
    },
    {
     "name": "stdout",
     "output_type": "stream",
     "text": [
      "compute the simulation with sample size 200 and number of variables 250\n"
     ]
    },
    {
     "name": "stderr",
     "output_type": "stream",
     "text": [
      "100%|██████████| 200/200 [00:31<00:00,  6.31it/s]\n"
     ]
    }
   ],
   "source": [
    "df1, df2 = func_simul(sample_size_5, n_dim_5, n_info, num_rep, step_size, rnd_seed, repro)"
   ]
  },
  {
   "cell_type": "code",
   "execution_count": 22,
   "metadata": {},
   "outputs": [
    {
     "data": {
      "text/html": [
       "<div>\n",
       "<style scoped>\n",
       "    .dataframe tbody tr th:only-of-type {\n",
       "        vertical-align: middle;\n",
       "    }\n",
       "\n",
       "    .dataframe tbody tr th {\n",
       "        vertical-align: top;\n",
       "    }\n",
       "\n",
       "    .dataframe thead th {\n",
       "        text-align: right;\n",
       "    }\n",
       "</style>\n",
       "<table border=\"1\" class=\"dataframe\">\n",
       "  <thead>\n",
       "    <tr style=\"text-align: right;\">\n",
       "      <th></th>\n",
       "      <th>algo</th>\n",
       "      <th>Number of selected variables (mean)</th>\n",
       "      <th>Number of selected variables (median)</th>\n",
       "      <th>Number of selected variables (IQR)</th>\n",
       "    </tr>\n",
       "  </thead>\n",
       "  <tbody>\n",
       "    <tr>\n",
       "      <th>0</th>\n",
       "      <td>solar + hold-out</td>\n",
       "      <td>5.13</td>\n",
       "      <td>5.0</td>\n",
       "      <td>0.0</td>\n",
       "    </tr>\n",
       "  </tbody>\n",
       "</table>\n",
       "</div>"
      ],
      "text/plain": [
       "               algo  Number of selected variables (mean)  \\\n",
       "0  solar + hold-out                                 5.13   \n",
       "\n",
       "   Number of selected variables (median)  Number of selected variables (IQR)  \n",
       "0                                    5.0                                 0.0  "
      ]
     },
     "execution_count": 22,
     "metadata": {},
     "output_type": "execute_result"
    }
   ],
   "source": [
    "df1"
   ]
  },
  {
   "cell_type": "code",
   "execution_count": 23,
   "metadata": {},
   "outputs": [
    {
     "data": {
      "text/html": [
       "<div>\n",
       "<style scoped>\n",
       "    .dataframe tbody tr th:only-of-type {\n",
       "        vertical-align: middle;\n",
       "    }\n",
       "\n",
       "    .dataframe tbody tr th {\n",
       "        vertical-align: top;\n",
       "    }\n",
       "\n",
       "    .dataframe thead th {\n",
       "        text-align: right;\n",
       "    }\n",
       "</style>\n",
       "<table border=\"1\" class=\"dataframe\">\n",
       "  <thead>\n",
       "    <tr style=\"text-align: right;\">\n",
       "      <th></th>\n",
       "      <th>algo</th>\n",
       "      <th>Pr(select X1)</th>\n",
       "      <th>Pr(select X1)</th>\n",
       "      <th>Pr(select X1)</th>\n",
       "      <th>Pr(select X1)</th>\n",
       "      <th>Pr(select X1)</th>\n",
       "    </tr>\n",
       "  </thead>\n",
       "  <tbody>\n",
       "    <tr>\n",
       "      <th>0</th>\n",
       "      <td>solar + hold-out</td>\n",
       "      <td>1.0</td>\n",
       "      <td>1.0</td>\n",
       "      <td>1.0</td>\n",
       "      <td>1.0</td>\n",
       "      <td>1.0</td>\n",
       "    </tr>\n",
       "  </tbody>\n",
       "</table>\n",
       "</div>"
      ],
      "text/plain": [
       "               algo  Pr(select X1)  Pr(select X1)  Pr(select X1)  \\\n",
       "0  solar + hold-out            1.0            1.0            1.0   \n",
       "\n",
       "   Pr(select X1)  Pr(select X1)  \n",
       "0            1.0            1.0  "
      ]
     },
     "execution_count": 23,
     "metadata": {},
     "output_type": "execute_result"
    }
   ],
   "source": [
    "df2"
   ]
  },
  {
   "cell_type": "markdown",
   "metadata": {},
   "source": [
    "# Part 3 : $\\log(p)/n \\rightarrow 0$"
   ]
  },
  {
   "cell_type": "code",
   "execution_count": 24,
   "metadata": {},
   "outputs": [],
   "source": [
    "sample_size_6 = 200; n_dim_6 = 400\n",
    "sample_size_7 = 400; n_dim_7 = 800\n",
    "sample_size_8 = 600; n_dim_8 = 1200"
   ]
  },
  {
   "cell_type": "markdown",
   "metadata": {},
   "source": [
    "## #4(g): $p/n=400/200$"
   ]
  },
  {
   "cell_type": "code",
   "execution_count": 25,
   "metadata": {},
   "outputs": [
    {
     "name": "stderr",
     "output_type": "stream",
     "text": [
      "  0%|          | 0/200 [00:00<?, ?it/s]"
     ]
    },
    {
     "name": "stdout",
     "output_type": "stream",
     "text": [
      "compute the simulation with sample size 200 and number of variables 400\n"
     ]
    },
    {
     "name": "stderr",
     "output_type": "stream",
     "text": [
      "100%|██████████| 200/200 [00:38<00:00,  5.19it/s]\n"
     ]
    }
   ],
   "source": [
    "df1, df2 = func_simul(sample_size_6, n_dim_6, n_info, num_rep, step_size, rnd_seed, repro)"
   ]
  },
  {
   "cell_type": "code",
   "execution_count": 26,
   "metadata": {},
   "outputs": [
    {
     "data": {
      "text/html": [
       "<div>\n",
       "<style scoped>\n",
       "    .dataframe tbody tr th:only-of-type {\n",
       "        vertical-align: middle;\n",
       "    }\n",
       "\n",
       "    .dataframe tbody tr th {\n",
       "        vertical-align: top;\n",
       "    }\n",
       "\n",
       "    .dataframe thead th {\n",
       "        text-align: right;\n",
       "    }\n",
       "</style>\n",
       "<table border=\"1\" class=\"dataframe\">\n",
       "  <thead>\n",
       "    <tr style=\"text-align: right;\">\n",
       "      <th></th>\n",
       "      <th>algo</th>\n",
       "      <th>Number of selected variables (mean)</th>\n",
       "      <th>Number of selected variables (median)</th>\n",
       "      <th>Number of selected variables (IQR)</th>\n",
       "    </tr>\n",
       "  </thead>\n",
       "  <tbody>\n",
       "    <tr>\n",
       "      <th>0</th>\n",
       "      <td>solar + hold-out</td>\n",
       "      <td>5.12</td>\n",
       "      <td>5.0</td>\n",
       "      <td>0.0</td>\n",
       "    </tr>\n",
       "  </tbody>\n",
       "</table>\n",
       "</div>"
      ],
      "text/plain": [
       "               algo  Number of selected variables (mean)  \\\n",
       "0  solar + hold-out                                 5.12   \n",
       "\n",
       "   Number of selected variables (median)  Number of selected variables (IQR)  \n",
       "0                                    5.0                                 0.0  "
      ]
     },
     "execution_count": 26,
     "metadata": {},
     "output_type": "execute_result"
    }
   ],
   "source": [
    "df1"
   ]
  },
  {
   "cell_type": "code",
   "execution_count": 27,
   "metadata": {},
   "outputs": [
    {
     "data": {
      "text/html": [
       "<div>\n",
       "<style scoped>\n",
       "    .dataframe tbody tr th:only-of-type {\n",
       "        vertical-align: middle;\n",
       "    }\n",
       "\n",
       "    .dataframe tbody tr th {\n",
       "        vertical-align: top;\n",
       "    }\n",
       "\n",
       "    .dataframe thead th {\n",
       "        text-align: right;\n",
       "    }\n",
       "</style>\n",
       "<table border=\"1\" class=\"dataframe\">\n",
       "  <thead>\n",
       "    <tr style=\"text-align: right;\">\n",
       "      <th></th>\n",
       "      <th>algo</th>\n",
       "      <th>Pr(select X1)</th>\n",
       "      <th>Pr(select X1)</th>\n",
       "      <th>Pr(select X1)</th>\n",
       "      <th>Pr(select X1)</th>\n",
       "      <th>Pr(select X1)</th>\n",
       "    </tr>\n",
       "  </thead>\n",
       "  <tbody>\n",
       "    <tr>\n",
       "      <th>0</th>\n",
       "      <td>solar + hold-out</td>\n",
       "      <td>1.0</td>\n",
       "      <td>1.0</td>\n",
       "      <td>1.0</td>\n",
       "      <td>1.0</td>\n",
       "      <td>1.0</td>\n",
       "    </tr>\n",
       "  </tbody>\n",
       "</table>\n",
       "</div>"
      ],
      "text/plain": [
       "               algo  Pr(select X1)  Pr(select X1)  Pr(select X1)  \\\n",
       "0  solar + hold-out            1.0            1.0            1.0   \n",
       "\n",
       "   Pr(select X1)  Pr(select X1)  \n",
       "0            1.0            1.0  "
      ]
     },
     "execution_count": 27,
     "metadata": {},
     "output_type": "execute_result"
    }
   ],
   "source": [
    "df2"
   ]
  },
  {
   "cell_type": "markdown",
   "metadata": {},
   "source": [
    "## #4(h): $p/n=800/400$"
   ]
  },
  {
   "cell_type": "code",
   "execution_count": 28,
   "metadata": {},
   "outputs": [
    {
     "name": "stderr",
     "output_type": "stream",
     "text": [
      "  0%|          | 0/200 [00:00<?, ?it/s]"
     ]
    },
    {
     "name": "stdout",
     "output_type": "stream",
     "text": [
      "compute the simulation with sample size 400 and number of variables 800\n"
     ]
    },
    {
     "name": "stderr",
     "output_type": "stream",
     "text": [
      "100%|██████████| 200/200 [03:02<00:00,  1.09it/s]\n"
     ]
    }
   ],
   "source": [
    "df1, df2 = func_simul(sample_size_7, n_dim_7, n_info, num_rep, step_size, rnd_seed, repro)"
   ]
  },
  {
   "cell_type": "code",
   "execution_count": 29,
   "metadata": {},
   "outputs": [
    {
     "data": {
      "text/html": [
       "<div>\n",
       "<style scoped>\n",
       "    .dataframe tbody tr th:only-of-type {\n",
       "        vertical-align: middle;\n",
       "    }\n",
       "\n",
       "    .dataframe tbody tr th {\n",
       "        vertical-align: top;\n",
       "    }\n",
       "\n",
       "    .dataframe thead th {\n",
       "        text-align: right;\n",
       "    }\n",
       "</style>\n",
       "<table border=\"1\" class=\"dataframe\">\n",
       "  <thead>\n",
       "    <tr style=\"text-align: right;\">\n",
       "      <th></th>\n",
       "      <th>algo</th>\n",
       "      <th>Number of selected variables (mean)</th>\n",
       "      <th>Number of selected variables (median)</th>\n",
       "      <th>Number of selected variables (IQR)</th>\n",
       "    </tr>\n",
       "  </thead>\n",
       "  <tbody>\n",
       "    <tr>\n",
       "      <th>0</th>\n",
       "      <td>solar + hold-out</td>\n",
       "      <td>5.24</td>\n",
       "      <td>5.0</td>\n",
       "      <td>0.0</td>\n",
       "    </tr>\n",
       "  </tbody>\n",
       "</table>\n",
       "</div>"
      ],
      "text/plain": [
       "               algo  Number of selected variables (mean)  \\\n",
       "0  solar + hold-out                                 5.24   \n",
       "\n",
       "   Number of selected variables (median)  Number of selected variables (IQR)  \n",
       "0                                    5.0                                 0.0  "
      ]
     },
     "execution_count": 29,
     "metadata": {},
     "output_type": "execute_result"
    }
   ],
   "source": [
    "df1"
   ]
  },
  {
   "cell_type": "code",
   "execution_count": 30,
   "metadata": {},
   "outputs": [
    {
     "data": {
      "text/html": [
       "<div>\n",
       "<style scoped>\n",
       "    .dataframe tbody tr th:only-of-type {\n",
       "        vertical-align: middle;\n",
       "    }\n",
       "\n",
       "    .dataframe tbody tr th {\n",
       "        vertical-align: top;\n",
       "    }\n",
       "\n",
       "    .dataframe thead th {\n",
       "        text-align: right;\n",
       "    }\n",
       "</style>\n",
       "<table border=\"1\" class=\"dataframe\">\n",
       "  <thead>\n",
       "    <tr style=\"text-align: right;\">\n",
       "      <th></th>\n",
       "      <th>algo</th>\n",
       "      <th>Pr(select X1)</th>\n",
       "      <th>Pr(select X1)</th>\n",
       "      <th>Pr(select X1)</th>\n",
       "      <th>Pr(select X1)</th>\n",
       "      <th>Pr(select X1)</th>\n",
       "    </tr>\n",
       "  </thead>\n",
       "  <tbody>\n",
       "    <tr>\n",
       "      <th>0</th>\n",
       "      <td>solar + hold-out</td>\n",
       "      <td>1.0</td>\n",
       "      <td>1.0</td>\n",
       "      <td>1.0</td>\n",
       "      <td>1.0</td>\n",
       "      <td>1.0</td>\n",
       "    </tr>\n",
       "  </tbody>\n",
       "</table>\n",
       "</div>"
      ],
      "text/plain": [
       "               algo  Pr(select X1)  Pr(select X1)  Pr(select X1)  \\\n",
       "0  solar + hold-out            1.0            1.0            1.0   \n",
       "\n",
       "   Pr(select X1)  Pr(select X1)  \n",
       "0            1.0            1.0  "
      ]
     },
     "execution_count": 30,
     "metadata": {},
     "output_type": "execute_result"
    }
   ],
   "source": [
    "df2"
   ]
  },
  {
   "cell_type": "markdown",
   "metadata": {},
   "source": [
    "## #4(i): $p/n=1200/600$"
   ]
  },
  {
   "cell_type": "code",
   "execution_count": 31,
   "metadata": {},
   "outputs": [
    {
     "name": "stderr",
     "output_type": "stream",
     "text": [
      "  0%|          | 0/200 [00:00<?, ?it/s]"
     ]
    },
    {
     "name": "stdout",
     "output_type": "stream",
     "text": [
      "compute the simulation with sample size 600 and number of variables 1200\n"
     ]
    },
    {
     "name": "stderr",
     "output_type": "stream",
     "text": [
      "100%|██████████| 200/200 [05:23<00:00,  1.62s/it]\n"
     ]
    }
   ],
   "source": [
    "df1, df2 = func_simul(sample_size_8, n_dim_8, n_info, num_rep, step_size, rnd_seed, repro)"
   ]
  },
  {
   "cell_type": "code",
   "execution_count": 32,
   "metadata": {},
   "outputs": [
    {
     "data": {
      "text/html": [
       "<div>\n",
       "<style scoped>\n",
       "    .dataframe tbody tr th:only-of-type {\n",
       "        vertical-align: middle;\n",
       "    }\n",
       "\n",
       "    .dataframe tbody tr th {\n",
       "        vertical-align: top;\n",
       "    }\n",
       "\n",
       "    .dataframe thead th {\n",
       "        text-align: right;\n",
       "    }\n",
       "</style>\n",
       "<table border=\"1\" class=\"dataframe\">\n",
       "  <thead>\n",
       "    <tr style=\"text-align: right;\">\n",
       "      <th></th>\n",
       "      <th>algo</th>\n",
       "      <th>Number of selected variables (mean)</th>\n",
       "      <th>Number of selected variables (median)</th>\n",
       "      <th>Number of selected variables (IQR)</th>\n",
       "    </tr>\n",
       "  </thead>\n",
       "  <tbody>\n",
       "    <tr>\n",
       "      <th>0</th>\n",
       "      <td>solar + hold-out</td>\n",
       "      <td>5.26</td>\n",
       "      <td>5.0</td>\n",
       "      <td>0.0</td>\n",
       "    </tr>\n",
       "  </tbody>\n",
       "</table>\n",
       "</div>"
      ],
      "text/plain": [
       "               algo  Number of selected variables (mean)  \\\n",
       "0  solar + hold-out                                 5.26   \n",
       "\n",
       "   Number of selected variables (median)  Number of selected variables (IQR)  \n",
       "0                                    5.0                                 0.0  "
      ]
     },
     "execution_count": 32,
     "metadata": {},
     "output_type": "execute_result"
    }
   ],
   "source": [
    "df1"
   ]
  },
  {
   "cell_type": "code",
   "execution_count": 33,
   "metadata": {},
   "outputs": [
    {
     "data": {
      "text/html": [
       "<div>\n",
       "<style scoped>\n",
       "    .dataframe tbody tr th:only-of-type {\n",
       "        vertical-align: middle;\n",
       "    }\n",
       "\n",
       "    .dataframe tbody tr th {\n",
       "        vertical-align: top;\n",
       "    }\n",
       "\n",
       "    .dataframe thead th {\n",
       "        text-align: right;\n",
       "    }\n",
       "</style>\n",
       "<table border=\"1\" class=\"dataframe\">\n",
       "  <thead>\n",
       "    <tr style=\"text-align: right;\">\n",
       "      <th></th>\n",
       "      <th>algo</th>\n",
       "      <th>Pr(select X1)</th>\n",
       "      <th>Pr(select X1)</th>\n",
       "      <th>Pr(select X1)</th>\n",
       "      <th>Pr(select X1)</th>\n",
       "      <th>Pr(select X1)</th>\n",
       "    </tr>\n",
       "  </thead>\n",
       "  <tbody>\n",
       "    <tr>\n",
       "      <th>0</th>\n",
       "      <td>solar + hold-out</td>\n",
       "      <td>1.0</td>\n",
       "      <td>1.0</td>\n",
       "      <td>1.0</td>\n",
       "      <td>1.0</td>\n",
       "      <td>1.0</td>\n",
       "    </tr>\n",
       "  </tbody>\n",
       "</table>\n",
       "</div>"
      ],
      "text/plain": [
       "               algo  Pr(select X1)  Pr(select X1)  Pr(select X1)  \\\n",
       "0  solar + hold-out            1.0            1.0            1.0   \n",
       "\n",
       "   Pr(select X1)  Pr(select X1)  \n",
       "0            1.0            1.0  "
      ]
     },
     "execution_count": 33,
     "metadata": {},
     "output_type": "execute_result"
    }
   ],
   "source": [
    "df2"
   ]
  },
  {
   "cell_type": "markdown",
   "metadata": {},
   "source": [
    "# output the raw results into HTML"
   ]
  },
  {
   "cell_type": "code",
   "execution_count": 1,
   "metadata": {},
   "outputs": [
    {
     "name": "stdout",
     "output_type": "stream",
     "text": [
      "[NbConvertApp] Converting notebook Simul_1d.ipynb to html\n",
      "[NbConvertApp] Writing 644052 bytes to Simul_1d.html\n"
     ]
    }
   ],
   "source": [
    "!rm -rf Simul_1d.html\n",
    "!jupyter nbconvert --to html Simul_1d.ipynb "
   ]
  },
  {
   "cell_type": "code",
   "execution_count": null,
   "metadata": {},
   "outputs": [],
   "source": []
  }
 ],
 "metadata": {
  "kernelspec": {
   "display_name": "Python 3",
   "language": "python",
   "name": "python3"
  },
  "language_info": {
   "codemirror_mode": {
    "name": "ipython",
    "version": 3
   },
   "file_extension": ".py",
   "mimetype": "text/x-python",
   "name": "python",
   "nbconvert_exporter": "python",
   "pygments_lexer": "ipython3",
   "version": "3.7.10"
  }
 },
 "nbformat": 4,
 "nbformat_minor": 4
}
